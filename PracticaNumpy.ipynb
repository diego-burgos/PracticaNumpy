{
  "nbformat": 4,
  "nbformat_minor": 0,
  "metadata": {
    "colab": {
      "provenance": [],
      "authorship_tag": "ABX9TyOQFUjYGOBEjHAmsKG9TaQS",
      "include_colab_link": true
    },
    "kernelspec": {
      "name": "python3",
      "display_name": "Python 3"
    },
    "language_info": {
      "name": "python"
    }
  },
  "cells": [
    {
      "cell_type": "markdown",
      "metadata": {
        "id": "view-in-github",
        "colab_type": "text"
      },
      "source": [
        "<a href=\"https://colab.research.google.com/github/diego-burgos/PracticaNumpy/blob/main/PracticaNumpy.ipynb\" target=\"_parent\"><img src=\"https://colab.research.google.com/assets/colab-badge.svg\" alt=\"Open In Colab\"/></a>"
      ]
    },
    {
      "cell_type": "code",
      "source": [
        "import numpy as np\n",
        "\n",
        "# Paso 1: Creación de Arrays\n",
        "# o Crea un array unidimensional (vector) con 5 elementos enteros de tu elección.\n",
        "vector = np.array([10, 20, 30, 40, 50])\n",
        "print(\"Vector:\", vector)\n",
        "print(\"___________________________________________________________\\n\")\n",
        "\n",
        "# o Crea una matriz bidimensional (matriz) de tamaño 3x3 con valores enteros consecutivos.\n",
        "matriz_consecutiva = np.arange(1, 10).reshape(3, 3)\n",
        "print(\"Matriz consecutiva:\\n\", matriz_consecutiva)\n",
        "print(\"___________________________________________________________\\n\")\n",
        "\n",
        "# o Utiliza la función np.zeros() para crear una matriz de tamaño 2x4 llena de ceros.\n",
        "matriz_zeros = np.zeros((2, 4))\n",
        "print(\"Matriz de ceros:\\n\", matriz_zeros)\n",
        "print(\"___________________________________________________________\\n\")\n",
        "\n",
        "# o Utiliza la función np.ones() para crear una matriz de tamaño 3x2 llena de unos.\n",
        "matriz_ones = np.ones((3, 2))\n",
        "print(\"Matriz de unos:\\n\", matriz_ones)\n",
        "print(\"___________________________________________________________\\n\")\n",
        "\n",
        "# o Utiliza la función np.random.randint() para crear una matriz de tamaño 4x4 con números enteros aleatorios entre 0 y 10.\n",
        "matriz_aleatoria = np.random.randint(0, 11, (4, 4))\n",
        "print(\"Matriz aleatoria:\\n\", matriz_aleatoria)"
      ],
      "metadata": {
        "colab": {
          "base_uri": "https://localhost:8080/"
        },
        "id": "TUgYVfaPUB9s",
        "outputId": "1964fc1f-52fa-4345-c7f1-7f29c0eae222"
      },
      "execution_count": 30,
      "outputs": [
        {
          "output_type": "stream",
          "name": "stdout",
          "text": [
            "Vector: [10 20 30 40 50]\n",
            "___________________________________________________________\n",
            "\n",
            "Matriz consecutiva:\n",
            " [[1 2 3]\n",
            " [4 5 6]\n",
            " [7 8 9]]\n",
            "___________________________________________________________\n",
            "\n",
            "Matriz de ceros:\n",
            " [[0. 0. 0. 0.]\n",
            " [0. 0. 0. 0.]]\n",
            "___________________________________________________________\n",
            "\n",
            "Matriz de unos:\n",
            " [[1. 1.]\n",
            " [1. 1.]\n",
            " [1. 1.]]\n",
            "___________________________________________________________\n",
            "\n",
            "Matriz aleatoria:\n",
            " [[ 5  0  3  3]\n",
            " [ 2  9  7  8]\n",
            " [ 9  1  3  6]\n",
            " [ 0  1 10  1]]\n"
          ]
        }
      ]
    },
    {
      "cell_type": "code",
      "source": [
        "# Paso 2: Acceso a Elementos\n",
        "# o Accede al tercer elemento del vector creado en el paso 1.\n",
        "tercer_elemento_vector = vector[2]\n",
        "print(\"Tercer elemento del vector:\", tercer_elemento_vector)\n",
        "print(\"___________________________________________________________\\n\")\n",
        "\n",
        "# o Accede al elemento en la segunda fila y segunda columna de la matriz creada en el paso 1.\n",
        "elemento_segunda_fila_segunda_columna = matriz_consecutiva[1, 1]\n",
        "print(\"Elemento en la segunda fila y segunda columna de la matriz consecutiva es:\", elemento_segunda_fila_segunda_columna)"
      ],
      "metadata": {
        "colab": {
          "base_uri": "https://localhost:8080/"
        },
        "id": "W-viqyI9UHL7",
        "outputId": "ada708cf-970e-44a5-cdae-e4562dbd0924"
      },
      "execution_count": 32,
      "outputs": [
        {
          "output_type": "stream",
          "name": "stdout",
          "text": [
            "Tercer elemento del vector: 30\n",
            "___________________________________________________________\n",
            "\n",
            "Elemento en la segunda fila y segunda columna de la matriz: 5\n"
          ]
        }
      ]
    },
    {
      "cell_type": "code",
      "source": [
        "# Paso 3: Propiedades de los Arrays\n",
        "# o Utiliza el atributo ndim para verificar la cantidad de dimensiones de la matriz creada en el paso 2.\n",
        "dimensiones_matriz = matriz_consecutiva.ndim\n",
        "print(\"Cantidad de dimensiones de la matriz:\", dimensiones_matriz)\n",
        "print(\"___________________________________________________________\\n\")\n",
        "\n",
        "# o Utiliza el atributo shape para obtener la forma de la matriz creada en el paso 2.\n",
        "forma_matriz = matriz_consecutiva.shape\n",
        "print(\"Forma de la matriz:\", forma_matriz)\n",
        "print(\"___________________________________________________________\\n\")\n",
        "\n",
        "# o Utiliza el atributo size para obtener el tamaño total de la matriz creada en el paso 2.\n",
        "tamaño_matriz = matriz_consecutiva.size\n",
        "print(\"Tamaño total de la matriz:\", tamaño_matriz)\n",
        "print(\"___________________________________________________________\\n\")"
      ],
      "metadata": {
        "colab": {
          "base_uri": "https://localhost:8080/"
        },
        "id": "oX2KSasTUkqY",
        "outputId": "c99ff48b-27bc-4d6f-bc75-686d5c4a7d83"
      },
      "execution_count": 33,
      "outputs": [
        {
          "output_type": "stream",
          "name": "stdout",
          "text": [
            "Cantidad de dimensiones de la matriz: 2\n",
            "___________________________________________________________\n",
            "\n",
            "Forma de la matriz: (3, 3)\n",
            "___________________________________________________________\n",
            "\n",
            "Tamaño total de la matriz: 9\n",
            "___________________________________________________________\n",
            "\n"
          ]
        }
      ]
    },
    {
      "cell_type": "code",
      "source": [
        "# Paso 4: Operaciones Básicas\n",
        "# o Suma dos matrices de tamaño 2x2 con valores aleatorios entre 0 y 10.\n",
        "matriz_sum_altr1 = np.random.randint(0, 11, (2, 2))\n",
        "matriz_sum_altr2 = np.random.randint(0, 11, (2, 2))\n",
        "suma_matrices = matriz_sum_altr1 + matriz_sum_altr2\n",
        "print(\"Matriz de tamañano 2x2:\\n\", matriz_sum_altr1)\n",
        "print(\"Matriz de tamañano 2x2:\\n\", matriz_sum_altr2)\n",
        "print(\"Suma de matrices aleatorias:\\n\", suma_matrices, \"\\n\")\n",
        "print(\"___________________________________________________________\\n\")\n",
        "\n",
        "# o Multiplica dos matrices de tamaño 3x2 y 2x3 respectivamente.\n",
        "matriz_multiplicacion1 = np.random.randint(0, 11, (3, 2))\n",
        "matriz_multiplicacion2 = np.random.randint(0, 11, (2, 3))\n",
        "producto_matrices = np.dot(matriz_multiplicacion1, matriz_multiplicacion2)\n",
        "print(\"Matriz de tamañano 3x2:\\n\", matriz_multiplicacion1)\n",
        "print(\"Matriz de tamañano 2x3:\\n\", matriz_multiplicacion2)\n",
        "print(\"Producto de matrices:\\n\", producto_matrices, \"\\n\")\n",
        "print(\"___________________________________________________________\\n\")\n",
        "\n",
        "# o Divide una matriz de tamaño 2x2 por otra matriz de tamaño 2x2, utilizando tanto la división por elementos como la multiplicación por la inversa.\n",
        "matriz_A = np.random.randint(1, 11, (2, 2))\n",
        "matriz_B = np.random.randint(1, 11, (2, 2))\n",
        "division_elementos = matriz_A / matriz_B\n",
        "multiplicacion_inversa = np.dot(matriz_A, np.linalg.inv(matriz_B))\n",
        "print(\"Matriz de tamañano 2x2:\\n\", matriz_A)\n",
        "print(\"Matriz de tamañano 2x2:\\n\", matriz_B)\n",
        "print(\"División por elementos:\\n\", division_elementos)\n",
        "print(\"Multiplicación por la inversa:\\n\", multiplicacion_inversa)"
      ],
      "metadata": {
        "colab": {
          "base_uri": "https://localhost:8080/"
        },
        "id": "_FB1-Gf2Uyru",
        "outputId": "c75ecf28-c29a-4247-a1f5-313d12a4ae93"
      },
      "execution_count": 37,
      "outputs": [
        {
          "output_type": "stream",
          "name": "stdout",
          "text": [
            "Matriz de tamañano 2x2:\n",
            " [[6 9]\n",
            " [1 1]]\n",
            "Matriz de tamañano 2x2:\n",
            " [[6 5]\n",
            " [4 2]]\n",
            "Suma de matrices aleatorias:\n",
            " [[12 14]\n",
            " [ 5  3]] \n",
            "\n",
            "___________________________________________________________\n",
            "\n",
            "Matriz de tamañano 3x2:\n",
            " [[ 5  9]\n",
            " [10  3]\n",
            " [10  6]]\n",
            "Matriz de tamañano 2x3:\n",
            " [[ 3  0  5]\n",
            " [ 7  0 10]]\n",
            "Producto de matrices:\n",
            " [[ 78   0 115]\n",
            " [ 51   0  80]\n",
            " [ 72   0 110]] \n",
            "\n",
            "___________________________________________________________\n",
            "\n",
            "Matriz de tamañano 2x2:\n",
            " [[1 8]\n",
            " [7 2]]\n",
            "Matriz de tamañano 2x2:\n",
            " [[ 7  6]\n",
            " [10  1]]\n",
            "División por elementos:\n",
            " [[0.14285714 1.33333333]\n",
            " [0.7        2.        ]]\n",
            "Multiplicación por la inversa:\n",
            " [[ 1.49056604 -0.94339623]\n",
            " [ 0.24528302  0.52830189]]\n"
          ]
        }
      ]
    },
    {
      "cell_type": "code",
      "source": [
        "# Paso 5: Manipulación de Arrays\n",
        "# o Utiliza la función reshape() para convertir el vector creado en el paso 1 en una matriz de tamaño 9x1.\n",
        "matriz_2x3 = matriz_consecutiva.reshape(9, 1)\n",
        "print(\"Matriz 2x3:\\n\", matriz_2x3)\n",
        "print(\"___________________________________________________________\\n\")\n",
        "\n",
        "# o Utiliza la función flatten() para convertir la matriz creada en el paso 1 en un vector unidimensional.\n",
        "vector_flatten = matriz_consecutiva.flatten()\n",
        "print(\"Vector flatten:\", vector_flatten)"
      ],
      "metadata": {
        "colab": {
          "base_uri": "https://localhost:8080/"
        },
        "id": "Iq8gCTG7VD7m",
        "outputId": "4a31bcb6-dc25-4bc6-ccc2-afd828a89a52"
      },
      "execution_count": 39,
      "outputs": [
        {
          "output_type": "stream",
          "name": "stdout",
          "text": [
            "Matriz 2x3:\n",
            " [[1]\n",
            " [2]\n",
            " [3]\n",
            " [4]\n",
            " [5]\n",
            " [6]\n",
            " [7]\n",
            " [8]\n",
            " [9]]\n",
            "___________________________________________________________\n",
            "\n",
            "Vector flatten: [1 2 3 4 5 6 7 8 9]\n"
          ]
        }
      ]
    },
    {
      "cell_type": "code",
      "source": [
        "# Paso 6: Operaciones Estadísticas\n",
        "# o Calcula la suma de todos los elementos de la matriz creada en el paso 1.\n",
        "suma_total_matriz = np.sum(matriz_consecutiva)\n",
        "print(\"Suma total de la matriz:\", suma_total_matriz)\n",
        "print(\"___________________________________________________________\\n\")\n",
        "\n",
        "# o Calcula la media de cada fila de la matriz creada en el paso 1.\n",
        "media_filas_matriz = np.mean(matriz_consecutiva, axis=1)\n",
        "print(\"Media de cada fila de la matriz:\\n\", media_filas_matriz)"
      ],
      "metadata": {
        "colab": {
          "base_uri": "https://localhost:8080/"
        },
        "id": "YUuxIGUnVFJn",
        "outputId": "5f9553d2-0bbe-4478-cfca-e31aa6208fab"
      },
      "execution_count": 40,
      "outputs": [
        {
          "output_type": "stream",
          "name": "stdout",
          "text": [
            "Suma total de la matriz: 45\n",
            "___________________________________________________________\n",
            "\n",
            "Media de cada fila de la matriz:\n",
            " [2. 5. 8.]\n"
          ]
        }
      ]
    },
    {
      "cell_type": "code",
      "source": [
        "# Paso 7: Indexación y Rebanado\n",
        "# o Imprime la primera fila de la matriz creada en el paso 1.\n",
        "primera_fila_matriz = matriz_consecutiva[0]\n",
        "print(\"Primera fila de la matriz:\\n\", primera_fila_matriz)\n",
        "print(\"___________________________________________________________\\n\")\n",
        "\n",
        "# o Imprime las primeras dos columnas de la matriz creada en el paso 1.\n",
        "primeras_dos_columnas_matriz = matriz_consecutiva[:, :2]\n",
        "print(\"Primeras dos columnas de la matriz:\\n\", primeras_dos_columnas_matriz)"
      ],
      "metadata": {
        "colab": {
          "base_uri": "https://localhost:8080/"
        },
        "id": "w8i9WNs4Z1MW",
        "outputId": "966fe44b-1595-414b-cbc5-e3fd37e19e99"
      },
      "execution_count": 42,
      "outputs": [
        {
          "output_type": "stream",
          "name": "stdout",
          "text": [
            "Primera fila de la matriz:\n",
            " [1 2 3]\n",
            "___________________________________________________________\n",
            "\n",
            "Primeras dos columnas de la matriz:\n",
            " [[1 2]\n",
            " [4 5]\n",
            " [7 8]]\n"
          ]
        }
      ]
    },
    {
      "cell_type": "code",
      "source": [
        "# Paso 8: Ejercicio Adicional\n",
        "# o Define una matriz de tamaño 4x4 con valores aleatorios.\n",
        "matriz_aleatoria_adicional = np.random.randint(0, 101, (4, 4))\n",
        "print(\"Matriz aleatoria adicional:\\n\", matriz_aleatoria_adicional)"
      ],
      "metadata": {
        "colab": {
          "base_uri": "https://localhost:8080/"
        },
        "id": "L3Cxx0ejZ8om",
        "outputId": "b88afcfa-2bf0-4311-8361-13a43339c537"
      },
      "execution_count": 24,
      "outputs": [
        {
          "output_type": "stream",
          "name": "stdout",
          "text": [
            "Matriz aleatoria adicional:\n",
            " [[ 32  90  54  42]\n",
            " [ 43  77  66  64]\n",
            " [100  32  56   1]\n",
            " [ 95  11  80  94]]\n"
          ]
        }
      ]
    },
    {
      "cell_type": "code",
      "source": [
        "# o Escribe un código para encontrar el valor máximo y mínimo de la matriz, así como su posición.\n",
        "valor_maximo = np.max(matriz_aleatoria_adicional)\n",
        "valor_minimo = np.min(matriz_aleatoria_adicional)\n",
        "posicion_maximo = np.unravel_index(np.argmax(matriz_aleatoria_adicional), matriz_aleatoria_adicional.shape)\n",
        "posicion_minimo = np.unravel_index(np.argmin(matriz_aleatoria_adicional), matriz_aleatoria_adicional.shape)\n",
        "print(\"Valor máximo:\", valor_maximo, \"en la posición:\", posicion_maximo)\n",
        "print(\"___________________________________________________________\\n\")\n",
        "print(\"Valor mínimo:\", valor_minimo, \"en la posición:\", posicion_minimo)"
      ],
      "metadata": {
        "colab": {
          "base_uri": "https://localhost:8080/"
        },
        "id": "zeG8izRuaBdY",
        "outputId": "4170668b-17ac-41ca-9674-d1aaf0056e1b"
      },
      "execution_count": 43,
      "outputs": [
        {
          "output_type": "stream",
          "name": "stdout",
          "text": [
            "Valor máximo: 100 en la posición: (2, 0)\n",
            "___________________________________________________________\n",
            "\n",
            "Valor mínimo: 1 en la posición: (2, 3)\n"
          ]
        }
      ]
    }
  ]
}